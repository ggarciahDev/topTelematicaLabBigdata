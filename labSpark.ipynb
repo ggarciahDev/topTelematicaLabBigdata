{
 "cells": [
  {
   "cell_type": "code",
   "execution_count": 1,
   "metadata": {},
   "outputs": [
    {
     "data": {
      "application/vnd.jupyter.widget-view+json": {
       "model_id": "09004d2f5c8744ea8950c3677fb4f254",
       "version_major": 2,
       "version_minor": 0
      },
      "text/plain": [
       "VBox()"
      ]
     },
     "metadata": {},
     "output_type": "display_data"
    },
    {
     "name": "stdout",
     "output_type": "stream",
     "text": [
      "Starting Spark application\n"
     ]
    },
    {
     "data": {
      "text/html": [
       "<table>\n",
       "<tr><th>ID</th><th>YARN Application ID</th><th>Kind</th><th>State</th><th>Spark UI</th><th>Driver log</th><th>Current session?</th></tr><tr><td>1</td><td>application_1588550221314_0002</td><td>pyspark</td><td>idle</td><td><a target=\"_blank\" href=\"http://ip-172-31-76-154.ec2.internal:20888/proxy/application_1588550221314_0002/\">Link</a></td><td><a target=\"_blank\" href=\"http://ip-172-31-69-82.ec2.internal:8042/node/containerlogs/container_1588550221314_0002_01_000001/livy\">Link</a></td><td>✔</td></tr></table>"
      ],
      "text/plain": [
       "<IPython.core.display.HTML object>"
      ]
     },
     "metadata": {},
     "output_type": "display_data"
    },
    {
     "data": {
      "application/vnd.jupyter.widget-view+json": {
       "model_id": "",
       "version_major": 2,
       "version_minor": 0
      },
      "text/plain": [
       "FloatProgress(value=0.0, bar_style='info', description='Progress:', layout=Layout(height='25px', width='50%'),…"
      ]
     },
     "metadata": {},
     "output_type": "display_data"
    },
    {
     "name": "stdout",
     "output_type": "stream",
     "text": [
      "SparkSession available as 'spark'.\n"
     ]
    },
    {
     "data": {
      "application/vnd.jupyter.widget-view+json": {
       "model_id": "",
       "version_major": 2,
       "version_minor": 0
      },
      "text/plain": [
       "FloatProgress(value=0.0, bar_style='info', description='Progress:', layout=Layout(height='25px', width='50%'),…"
      ]
     },
     "metadata": {},
     "output_type": "display_data"
    }
   ],
   "source": [
    "#import SparkSession\n",
    "from pyspark.sql import SparkSession"
   ]
  },
  {
   "cell_type": "code",
   "execution_count": 2,
   "metadata": {},
   "outputs": [
    {
     "data": {
      "application/vnd.jupyter.widget-view+json": {
       "model_id": "7797a91846e7426e8774c765ccb46f65",
       "version_major": 2,
       "version_minor": 0
      },
      "text/plain": [
       "VBox()"
      ]
     },
     "metadata": {},
     "output_type": "display_data"
    },
    {
     "data": {
      "application/vnd.jupyter.widget-view+json": {
       "model_id": "",
       "version_major": 2,
       "version_minor": 0
      },
      "text/plain": [
       "FloatProgress(value=0.0, bar_style='info', description='Progress:', layout=Layout(height='25px', width='50%'),…"
      ]
     },
     "metadata": {},
     "output_type": "display_data"
    }
   ],
   "source": [
    "#create spar session object\n",
    "spark=SparkSession.builder.appName('data_processing').getOrCreate()"
   ]
  },
  {
   "cell_type": "code",
   "execution_count": 3,
   "metadata": {},
   "outputs": [
    {
     "data": {
      "application/vnd.jupyter.widget-view+json": {
       "model_id": "83c8f7b2e22a458c9f83553a1360d9f3",
       "version_major": 2,
       "version_minor": 0
      },
      "text/plain": [
       "VBox()"
      ]
     },
     "metadata": {},
     "output_type": "display_data"
    },
    {
     "data": {
      "application/vnd.jupyter.widget-view+json": {
       "model_id": "",
       "version_major": 2,
       "version_minor": 0
      },
      "text/plain": [
       "FloatProgress(value=0.0, bar_style='info', description='Progress:', layout=Layout(height='25px', width='50%'),…"
      ]
     },
     "metadata": {},
     "output_type": "display_data"
    }
   ],
   "source": [
    "# Load csv Dataset \n",
    "df=spark.read.csv('s3://ggarciahbucket1/datasets/Casos_positivos_de_COVID-19_en_Colombia.csv',inferSchema=True,header=True)"
   ]
  },
  {
   "cell_type": "code",
   "execution_count": 4,
   "metadata": {},
   "outputs": [
    {
     "data": {
      "application/vnd.jupyter.widget-view+json": {
       "model_id": "588fbf1340a440b385e06bed2d41917b",
       "version_major": 2,
       "version_minor": 0
      },
      "text/plain": [
       "VBox()"
      ]
     },
     "metadata": {},
     "output_type": "display_data"
    },
    {
     "data": {
      "application/vnd.jupyter.widget-view+json": {
       "model_id": "",
       "version_major": 2,
       "version_minor": 0
      },
      "text/plain": [
       "FloatProgress(value=0.0, bar_style='info', description='Progress:', layout=Layout(height='25px', width='50%'),…"
      ]
     },
     "metadata": {},
     "output_type": "display_data"
    }
   ],
   "source": [
    "from pyspark.sql.types import StringType,DoubleType,IntegerType"
   ]
  },
  {
   "cell_type": "code",
   "execution_count": 5,
   "metadata": {
    "scrolled": true
   },
   "outputs": [
    {
     "data": {
      "application/vnd.jupyter.widget-view+json": {
       "model_id": "72fa4ad0370a422389f55d3d76965fa1",
       "version_major": 2,
       "version_minor": 0
      },
      "text/plain": [
       "VBox()"
      ]
     },
     "metadata": {},
     "output_type": "display_data"
    },
    {
     "data": {
      "application/vnd.jupyter.widget-view+json": {
       "model_id": "",
       "version_major": 2,
       "version_minor": 0
      },
      "text/plain": [
       "FloatProgress(value=0.0, bar_style='info', description='Progress:', layout=Layout(height='25px', width='50%'),…"
      ]
     },
     "metadata": {},
     "output_type": "display_data"
    },
    {
     "name": "stdout",
     "output_type": "stream",
     "text": [
      "+----------+---------------------+---------------+-------------------+------------------------+----------+----+----+-----------+------+-------------------------+-----------------------+---------------+-------------------+-----------------------+-------------------+-----------------------+\n",
      "|ID de caso|Fecha de notificación|Codigo DIVIPOLA|Ciudad de ubicación|Departamento o Distrito |atención  |Edad|Sexo|Tipo       |Estado|País de procedencia      |FIS                    |Fecha de muerte|Fecha diagnostico  |Fecha recuperado       |fecha reporte web  |Edad_despues_de_10_anos|\n",
      "+----------+---------------------+---------------+-------------------+------------------------+----------+----+----+-----------+------+-------------------------+-----------------------+---------------+-------------------+-----------------------+-------------------+-----------------------+\n",
      "|1         |2020-03-02 00:00:00  |11001          |Bogotá D.C.        |Bogotá D.C.             |Recuperado|19  |F   |Importado  |Leve  |Italia                   |2020-02-27T00:00:00.000|-   -          |2020-03-06 00:00:00|2020-03-13T00:00:00.000|2020-03-06 00:00:00|29                     |\n",
      "|2         |2020-03-06 00:00:00  |76111          |Guadalajara de Buga|Valle del Cauca         |Recuperado|34  |M   |Importado  |Leve  |España                   |2020-03-04T00:00:00.000|-   -          |2020-03-09 00:00:00|2020-03-19T00:00:00.000|2020-03-09 00:00:00|44                     |\n",
      "|3         |2020-03-07 00:00:00  |5001           |Medellín           |Antioquia               |Recuperado|50  |F   |Importado  |Leve  |España                   |2020-02-29T00:00:00.000|-   -          |2020-03-09 00:00:00|2020-03-15T00:00:00.000|2020-03-09 00:00:00|60                     |\n",
      "|4         |2020-03-09 00:00:00  |5001           |Medellín           |Antioquia               |Recuperado|55  |M   |Relacionado|Leve  |Colombia                 |2020-03-06T00:00:00.000|-   -          |2020-03-11 00:00:00|2020-03-26T00:00:00.000|2020-03-11 00:00:00|65                     |\n",
      "|5         |2020-03-09 00:00:00  |5001           |Medellín           |Antioquia               |Recuperado|25  |M   |Relacionado|Leve  |Colombia                 |2020-03-08T00:00:00.000|-   -          |2020-03-11 00:00:00|2020-03-23T00:00:00.000|2020-03-11 00:00:00|35                     |\n",
      "|6         |2020-03-10 00:00:00  |5360           |Itagüí             |Antioquia               |Recuperado|27  |F   |Relacionado|Leve  |Colombia                 |2020-03-06T00:00:00.000|-   -          |2020-03-11 00:00:00|2020-03-26T00:00:00.000|2020-03-11 00:00:00|37                     |\n",
      "|7         |2020-03-08 00:00:00  |13001          |Cartagena de Indias|Cartagena D.T. y C.     |Recuperado|85  |F   |Importado  |Leve  |Estados Unidos de América|2020-03-02T00:00:00.000|-   -          |2020-03-11 00:00:00|2020-03-17T00:00:00.000|2020-03-11 00:00:00|95                     |\n",
      "|8         |2020-03-09 00:00:00  |11001          |Bogotá D.C.        |Bogotá D.C.             |Recuperado|22  |F   |Importado  |Leve  |España                   |2020-03-06T00:00:00.000|-   -          |2020-03-11 00:00:00|2020-03-21T00:00:00.000|2020-03-11 00:00:00|32                     |\n",
      "|9         |2020-03-08 00:00:00  |11001          |Bogotá D.C.        |Bogotá D.C.             |Recuperado|28  |F   |Importado  |Leve  |España                   |2020-03-07T00:00:00.000|-   -          |2020-03-11 00:00:00|2020-03-23T00:00:00.000|2020-03-11 00:00:00|38                     |\n",
      "|10        |2020-03-12 00:00:00  |11001          |Bogotá D.C.        |Bogotá D.C.             |Recuperado|36  |F   |Importado  |Leve  |España                   |2020-03-06T00:00:00.000|-   -          |2020-03-12 00:00:00|2020-03-21T00:00:00.000|2020-03-12 00:00:00|46                     |\n",
      "+----------+---------------------+---------------+-------------------+------------------------+----------+----+----+-----------+------+-------------------------+-----------------------+---------------+-------------------+-----------------------+-------------------+-----------------------+\n",
      "only showing top 10 rows"
     ]
    }
   ],
   "source": [
    "#with column\n",
    "df.withColumn(\"Edad_despues_de_10_anos\",(df[\"Edad\"]+10)).show(10,False)"
   ]
  },
  {
   "cell_type": "code",
   "execution_count": 6,
   "metadata": {},
   "outputs": [
    {
     "data": {
      "application/vnd.jupyter.widget-view+json": {
       "model_id": "816b10e459f24a55aea1f11243498aa7",
       "version_major": 2,
       "version_minor": 0
      },
      "text/plain": [
       "VBox()"
      ]
     },
     "metadata": {},
     "output_type": "display_data"
    },
    {
     "data": {
      "application/vnd.jupyter.widget-view+json": {
       "model_id": "",
       "version_major": 2,
       "version_minor": 0
      },
      "text/plain": [
       "FloatProgress(value=0.0, bar_style='info', description='Progress:', layout=Layout(height='25px', width='50%'),…"
      ]
     },
     "metadata": {},
     "output_type": "display_data"
    },
    {
     "name": "stdout",
     "output_type": "stream",
     "text": [
      "+-------------------+-----+\n",
      "|Ciudad de ubicación|count|\n",
      "+-------------------+-----+\n",
      "|Palermo            |5    |\n",
      "|El Dovio           |4    |\n",
      "|Montería           |17   |\n",
      "|Santa Rosa de Cabal|3    |\n",
      "|La Ceja            |2    |\n",
      "+-------------------+-----+\n",
      "only showing top 5 rows"
     ]
    }
   ],
   "source": [
    "df.groupBy('Ciudad de ubicación').count().show(5,False)"
   ]
  },
  {
   "cell_type": "code",
   "execution_count": 7,
   "metadata": {},
   "outputs": [
    {
     "data": {
      "application/vnd.jupyter.widget-view+json": {
       "model_id": "3ffbe1f27430466eb2fd10918dd1732d",
       "version_major": 2,
       "version_minor": 0
      },
      "text/plain": [
       "VBox()"
      ]
     },
     "metadata": {},
     "output_type": "display_data"
    },
    {
     "data": {
      "application/vnd.jupyter.widget-view+json": {
       "model_id": "",
       "version_major": 2,
       "version_minor": 0
      },
      "text/plain": [
       "FloatProgress(value=0.0, bar_style='info', description='Progress:', layout=Layout(height='25px', width='50%'),…"
      ]
     },
     "metadata": {},
     "output_type": "display_data"
    },
    {
     "name": "stdout",
     "output_type": "stream",
     "text": [
      "+-------------------+-----+\n",
      "|Ciudad de ubicación|count|\n",
      "+-------------------+-----+\n",
      "|Bogotá D.C.        |2633 |\n",
      "|Cali               |750  |\n",
      "|Villavicencio      |352  |\n",
      "|Medellín           |309  |\n",
      "|Cartagena de Indias|271  |\n",
      "+-------------------+-----+\n",
      "only showing top 5 rows"
     ]
    }
   ],
   "source": [
    "# Value counts\n",
    "df.groupBy('Ciudad de ubicación').count().orderBy('count',ascending=False).show(5,False)"
   ]
  },
  {
   "cell_type": "code",
   "execution_count": 8,
   "metadata": {},
   "outputs": [
    {
     "data": {
      "application/vnd.jupyter.widget-view+json": {
       "model_id": "cc105d8b3f804c7aa3c323e7d0fb152d",
       "version_major": 2,
       "version_minor": 0
      },
      "text/plain": [
       "VBox()"
      ]
     },
     "metadata": {},
     "output_type": "display_data"
    },
    {
     "data": {
      "application/vnd.jupyter.widget-view+json": {
       "model_id": "",
       "version_major": 2,
       "version_minor": 0
      },
      "text/plain": [
       "FloatProgress(value=0.0, bar_style='info', description='Progress:', layout=Layout(height='25px', width='50%'),…"
      ]
     },
     "metadata": {},
     "output_type": "display_data"
    },
    {
     "name": "stdout",
     "output_type": "stream",
     "text": [
      "+----------+---------------------+---------------+-------------------+------------------------+----------+----+----+-----------+---------+-------------------+--------------------+--------------------+-------------------+--------------------+-------------------+\n",
      "|ID de caso|Fecha de notificación|Codigo DIVIPOLA|Ciudad de ubicación|Departamento o Distrito |  atención|Edad|Sexo|       Tipo|   Estado|País de procedencia|                 FIS|     Fecha de muerte|  Fecha diagnostico|    Fecha recuperado|  fecha reporte web|\n",
      "+----------+---------------------+---------------+-------------------+------------------------+----------+----+----+-----------+---------+-------------------+--------------------+--------------------+-------------------+--------------------+-------------------+\n",
      "|        12|  2020-03-10 00:00:00|          41001|              Neiva|                   Huila|Recuperado|  74|   F|  Importado|     Leve|             Italia|2020-03-06T00:00:...|               -   -|2020-03-12 00:00:00|2020-04-09T00:00:...|2020-03-12 00:00:00|\n",
      "|        13|  2020-03-10 00:00:00|          41001|              Neiva|                   Huila|Recuperado|  68|   F|Relacionado|     Leve|           Colombia|2020-03-06T00:00:...|               -   -|2020-03-12 00:00:00|2020-03-30T00:00:...|2020-03-12 00:00:00|\n",
      "|        29|  2020-03-12 00:00:00|          41001|              Neiva|                   Huila|Recuperado|  55|   F|Relacionado|     Leve|           Colombia|2020-03-10T00:00:...|               -   -|2020-03-12 00:00:00|2020-03-25T00:00:...|2020-03-12 00:00:00|\n",
      "|        41|  2020-03-14 00:00:00|          41001|              Neiva|                   Huila|Recuperado|  79|   M|Relacionado|     Leve|           Colombia|        Asintomático|               -   -|2020-03-14 00:00:00|2020-03-28T00:00:...|2020-03-14 00:00:00|\n",
      "|        42|  2020-03-14 00:00:00|          41001|              Neiva|                   Huila|Recuperado|  52|   F|Relacionado|     Leve|           Colombia|2020-03-10T00:00:...|               -   -|2020-03-14 00:00:00|2020-03-24T00:00:...|2020-03-14 00:00:00|\n",
      "|        43|  2020-03-14 00:00:00|          41001|              Neiva|                   Huila|Recuperado|  71|   M|Relacionado|     Leve|           Colombia|2020-03-09T00:00:...|               -   -|2020-03-14 00:00:00|2020-03-24T00:00:...|2020-03-14 00:00:00|\n",
      "|        44|  2020-03-14 00:00:00|          41001|              Neiva|                   Huila|Recuperado|  24|   F|Relacionado|     Leve|           Colombia|2020-03-10T00:00:...|               -   -|2020-03-14 00:00:00|2020-03-24T00:00:...|2020-03-14 00:00:00|\n",
      "|        90|  2020-03-15 00:00:00|          41001|              Neiva|                   Huila|Recuperado|  53|   F|Relacionado|     Leve|           Colombia|2020-03-15T00:00:...|               -   -|2020-03-17 00:00:00|2020-03-30T00:00:...|2020-03-17 00:00:00|\n",
      "|       124|  2020-03-16 00:00:00|          41001|              Neiva|                   Huila|Recuperado|  76|   F|Relacionado|     Leve|           Colombia|2020-03-08T00:00:...|               -   -|2020-03-19 00:00:00|2020-04-04T00:00:...|2020-03-19 00:00:00|\n",
      "|       196|  2020-03-19 00:00:00|          41001|              Neiva|                   Huila|Recuperado|  50|   F|  Importado|     Leve|             España|2020-03-12T00:00:...|               -   -|2020-03-21 00:00:00|2020-04-02T00:00:...|2020-03-21 00:00:00|\n",
      "|       286|  2020-03-21 00:00:00|          41001|              Neiva|                   Huila| Fallecido|  83|   F|Relacionado|Fallecido|           Colombia|2020-03-18T00:00:...|2020-04-06T00:00:...|2020-03-23 00:00:00|               -   -|2020-03-23 00:00:00|\n",
      "|       341|  2020-03-21 00:00:00|          41001|              Neiva|                   Huila|Recuperado|  68|   M|Relacionado|     Leve|           Colombia|2020-03-20T00:00:...|               -   -|2020-03-24 00:00:00|2020-04-25T00:00:...|2020-03-24 00:00:00|\n",
      "|       359|  2020-03-24 00:00:00|          41001|              Neiva|                   Huila|Recuperado|  42|   F| En estudio|     Leve|           Colombia|2020-03-18T00:00:...|               -   -|2020-03-24 00:00:00|2020-04-25T00:00:...|2020-03-24 00:00:00|\n",
      "|       659|  2020-03-28 00:00:00|          41001|              Neiva|                   Huila|Recuperado|  26|   M|Relacionado|     Leve|           Colombia|2020-03-18T00:00:...|               -   -|2020-03-29 00:00:00|2020-04-01T00:00:...|2020-03-29 00:00:00|\n",
      "|       660|  2020-03-28 00:00:00|          41001|              Neiva|                   Huila|Recuperado|  21|   F|Relacionado|     Leve|           Colombia|2020-03-20T00:00:...|               -   -|2020-03-29 00:00:00|2020-04-03T00:00:...|2020-03-29 00:00:00|\n",
      "|       709|  2020-03-25 00:00:00|          41001|              Neiva|                   Huila|Recuperado|  32|   F|Relacionado|     Leve|           Colombia|2020-02-27T00:00:...|               -   -|2020-03-30 00:00:00|2020-04-12T00:00:...|2020-03-30 00:00:00|\n",
      "|       710|  2020-03-25 00:00:00|          41001|              Neiva|                   Huila| Fallecido|  64|   F|Relacionado|Fallecido|           Colombia|2020-03-22T00:00:...|2020-03-25T00:00:...|2020-03-30 00:00:00|               -   -|2020-03-30 00:00:00|\n",
      "|       711|  2020-03-20 00:00:00|          41001|              Neiva|                   Huila|Recuperado|  27|   F|  Importado|     Leve|             España|2020-03-12T00:00:...|               -   -|2020-03-30 00:00:00|2020-03-26T00:00:...|2020-03-30 00:00:00|\n",
      "|       855|  2020-03-25 00:00:00|          41001|              Neiva|                   Huila|Recuperado|  36|   M|Relacionado|     Leve|           Colombia|2020-03-20T00:00:...|               -   -|2020-03-31 00:00:00|2020-04-01T00:00:...|2020-03-31 00:00:00|\n",
      "|       856|  2020-03-25 00:00:00|          41001|              Neiva|                   Huila|Recuperado|  33|   F|Relacionado|     Leve|           Colombia|2020-03-19T00:00:...|               -   -|2020-03-31 00:00:00|2020-04-07T00:00:...|2020-03-31 00:00:00|\n",
      "+----------+---------------------+---------------+-------------------+------------------------+----------+----+----+-----------+---------+-------------------+--------------------+--------------------+-------------------+--------------------+-------------------+\n",
      "only showing top 20 rows"
     ]
    }
   ],
   "source": [
    "#filter the records \n",
    "df.filter(df['Ciudad de ubicación']=='Neiva').show()"
   ]
  },
  {
   "cell_type": "code",
   "execution_count": 13,
   "metadata": {},
   "outputs": [
    {
     "data": {
      "application/vnd.jupyter.widget-view+json": {
       "model_id": "54d714dba66849599da6d44354f172d5",
       "version_major": 2,
       "version_minor": 0
      },
      "text/plain": [
       "VBox()"
      ]
     },
     "metadata": {},
     "output_type": "display_data"
    },
    {
     "data": {
      "application/vnd.jupyter.widget-view+json": {
       "model_id": "",
       "version_major": 2,
       "version_minor": 0
      },
      "text/plain": [
       "FloatProgress(value=0.0, bar_style='info', description='Progress:', layout=Layout(height='25px', width='50%'),…"
      ]
     },
     "metadata": {},
     "output_type": "display_data"
    }
   ],
   "source": []
  },
  {
   "cell_type": "code",
   "execution_count": 14,
   "metadata": {
    "scrolled": true
   },
   "outputs": [
    {
     "data": {
      "application/vnd.jupyter.widget-view+json": {
       "model_id": "d1c6b9c97a00481e85ef662be7c89095",
       "version_major": 2,
       "version_minor": 0
      },
      "text/plain": [
       "VBox()"
      ]
     },
     "metadata": {},
     "output_type": "display_data"
    },
    {
     "data": {
      "application/vnd.jupyter.widget-view+json": {
       "model_id": "",
       "version_major": 2,
       "version_minor": 0
      },
      "text/plain": [
       "FloatProgress(value=0.0, bar_style='info', description='Progress:', layout=Layout(height='25px', width='50%'),…"
      ]
     },
     "metadata": {},
     "output_type": "display_data"
    }
   ],
   "source": [
    "write_uri='s3://ggarciahbucket1/datasets/df_csv'"
   ]
  },
  {
   "cell_type": "code",
   "execution_count": 15,
   "metadata": {},
   "outputs": [
    {
     "data": {
      "application/vnd.jupyter.widget-view+json": {
       "model_id": "1bc189e8033f4375aae32251605ea807",
       "version_major": 2,
       "version_minor": 0
      },
      "text/plain": [
       "VBox()"
      ]
     },
     "metadata": {},
     "output_type": "display_data"
    },
    {
     "data": {
      "application/vnd.jupyter.widget-view+json": {
       "model_id": "",
       "version_major": 2,
       "version_minor": 0
      },
      "text/plain": [
       "FloatProgress(value=0.0, bar_style='info', description='Progress:', layout=Layout(height='25px', width='50%'),…"
      ]
     },
     "metadata": {},
     "output_type": "display_data"
    }
   ],
   "source": [
    "df.select('Edad','Sexo').coalesce(1).write.format(\"csv\").option(\"header\",\"true\").save(write_uri)"
   ]
  },
  {
   "cell_type": "code",
   "execution_count": null,
   "metadata": {},
   "outputs": [],
   "source": []
  }
 ],
 "metadata": {
  "kernelspec": {
   "display_name": "PySpark",
   "language": "",
   "name": "pysparkkernel"
  },
  "language_info": {
   "codemirror_mode": {
    "name": "python",
    "version": 2
   },
   "mimetype": "text/x-python",
   "name": "pyspark",
   "pygments_lexer": "python2"
  }
 },
 "nbformat": 4,
 "nbformat_minor": 4
}
